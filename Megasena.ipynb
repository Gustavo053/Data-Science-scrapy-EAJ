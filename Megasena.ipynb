{
 "cells": [
  {
   "cell_type": "code",
   "execution_count": 101,
   "metadata": {},
   "outputs": [
    {
     "name": "stdout",
     "output_type": "stream",
     "text": [
      "04\n",
      "18\n",
      "29\n",
      "47\n",
      "48\n",
      "59\n",
      "['04', '18', '29', '47', '48', '59']\n",
      "Terminei a raspagem de dados\n"
     ]
    }
   ],
   "source": [
    "from selenium import webdriver\n",
    "from pymongo import MongoClient\n",
    "\n",
    "client = MongoClient('mongodb://localhost:27017')\n",
    "db = client.megasena\n",
    "\n",
    "def megasena(concurso):\n",
    "    options = webdriver.FirefoxOptions()\n",
    "    options.add_argument('headless') # O mais importante, não renderiza parte gráfica\n",
    "    options.add_argument('window-size=1920x1080')\n",
    "    driver = webdriver.Firefox(executable_path = '/home/gustavo/Downloads/geckodriver-v0.29.0-linux32/geckodriver', options = options)\n",
    "    url = 'https://www.loteriaseresultados.com.br/index.php/megasena/concurso/' + str(concurso)\n",
    "    driver.get(url)\n",
    "    try:\n",
    "        # uma opção é obter todo o body (ou parte mais específica) da página com o selenium/webdriver e passar ao BSoup para análise padrão\n",
    "        body = driver.find_element_by_tag_name('body')\n",
    "        html = body.get_attribute('innerHTML')\n",
    "        soupPage = soup(html, 'html5lib')\n",
    "        spanList = soupPage.findAll('span', class_='white--text font-weight-bold')\n",
    "        tdCenterList = soupPage.findAll('td', class_='text-center')\n",
    "        tdRightList = soupPage.findAll('td', class_='text-right')\n",
    "        dataList = []\n",
    "#         print(spanList)\n",
    "#         print(tdCenterList)\n",
    "#         print(tdRightList)\n",
    "        for n in range(6):\n",
    "            print(spanList[n].text)\n",
    "            dataList.append(spanList[n].text)\n",
    "            \n",
    "        print(dataList)\n",
    "        db.concursos.insert_one({\n",
    "            str(concurso): dataList,\n",
    "            'SENA': {'Resultado': tdCenterList[1].text, 'Prêmio': tdRightList[0].text},\n",
    "            'QUINA': {'Resultado': tdCenterList[3].text, 'Prêmio': tdRightList[1].text},\n",
    "            'QUADRA': {'Resultado': tdCenterList[5].text, 'Prêmio': tdRightList[2].text}\n",
    "        })\n",
    "    \n",
    "    except:\n",
    "        print('criterio nao encontrado')\n",
    "    \n",
    "    print('Terminei a raspagem de dados')\n",
    "    driver.close()\n",
    "\n",
    "megasena(2336)"
   ]
  }
 ],
 "metadata": {
  "kernelspec": {
   "display_name": "Python 3",
   "language": "python",
   "name": "python3"
  },
  "language_info": {
   "codemirror_mode": {
    "name": "ipython",
    "version": 3
   },
   "file_extension": ".py",
   "mimetype": "text/x-python",
   "name": "python",
   "nbconvert_exporter": "python",
   "pygments_lexer": "ipython3",
   "version": "3.8.5"
  }
 },
 "nbformat": 4,
 "nbformat_minor": 4
}
